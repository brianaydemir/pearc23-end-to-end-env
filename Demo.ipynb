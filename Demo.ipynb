{
 "cells": [
  {
   "cell_type": "markdown",
   "id": "6a86f7bc-30ca-4c01-8542-10efd3f94990",
   "metadata": {},
   "source": [
    "# SciAuth End-to-End Environment Tutorial\n",
    "\n",
    "### Requirements\n",
    "\n",
    "* [Register in COmanage](https://registry.cilogon.org/registry/co_petitions/start/coef:405) for the tutorial. You will be asked to confirm your email address.\n",
    "\n",
    "  If you have used OSG services before, e.g., the Open Science Pool, the previous link might give you an error. In that case, [use this alternative registration form](https://registry.cilogon.org/registry/co_petitions/start/coef:409)."
   ]
  },
  {
   "cell_type": "markdown",
   "id": "83d9d9c7-824a-4389-81cc-e1b0674249a5",
   "metadata": {
    "tags": []
   },
   "source": [
    "## Architecture of the End-to-End Environment\n",
    "\n",
    "The end-to-end environment is a [Docker Compose](https://docs.docker.com/compose/) setup that incorporates [JupyterHub](https://jupyter.org/hub), a [lightweight token issuer](https://github.com/scitokens/scitokens-oauth2-server), and an [HTCondor](https://htcondor.org) pool. By default, and for this tutorial, authentication is provided [CILogon](https://www.cilogon.org/). The source code for the end-to-end environment is [available on GitHub](https://github.com/SciAuth/sciauth-lightweight-environment).\n",
    "\n",
    "<img src=\"images/04-arch.png\" width=\"750px\">"
   ]
  },
  {
   "cell_type": "markdown",
   "id": "1a9cb700-f609-4325-b4c4-79d2866c78ce",
   "metadata": {},
   "source": [
    "## Log into the Demo VM\n",
    "\n",
    "For this tutorial, we have set up a VM where you will do much of your work.\n",
    "\n",
    "To log into the VM, first [log into COmanage](https://registry.cilogon.org/registry/) with the same identity as you did to register, select the menu in the upper right corner, and view your profile.\n",
    "\n",
    "<img src=\"images/02-link.png\" width=\"500px\">"
   ]
  },
  {
   "cell_type": "markdown",
   "id": "6a728ece-c2b9-494c-8838-11e9f861084b",
   "metadata": {},
   "source": [
    "On your profile, locate your \"OSG username\".\n",
    "\n",
    "<img src=\"images/03-profile.png\" width=\"500px\">"
   ]
  },
  {
   "cell_type": "markdown",
   "id": "315b8b87-e564-479f-96ec-788f94e40abb",
   "metadata": {},
   "source": [
    "Then use SSH log into the VM with that username:\n",
    "\n",
    "    ssh username@login.pearc23.sciauth.org\n",
    "\n",
    "You can use a terminal from within this Jupyter instance (File > New > Terminal), or any other SSH client of your choosing. When prompted, visit the cilogon.org URL, and log in with the same identity as you did to register."
   ]
  },
  {
   "cell_type": "markdown",
   "id": "1e808175-bfee-48fd-a429-69529d72e19c",
   "metadata": {
    "tags": []
   },
   "source": [
    "## Aside: Naming Conventions\n",
    "\n",
    "For the remainder of this tutorial, in order to keep your work distinct from that of others using the tutorial's VM, we will use your username **with periods replaced by dashes** as prefix to the names of various resources. (Periods do not interact well with the wildcard TLS certificates that were created for this tutorial.)\n",
    "\n",
    "For example, the username `brian.aydemir.19` shown above would become `brian-aydemir-19`."
   ]
  },
  {
   "cell_type": "markdown",
   "id": "1f735de5-629f-4fb0-aa64-fcca0d4c9d91",
   "metadata": {},
   "source": [
    "## Quick Reference"
   ]
  },
  {
   "cell_type": "markdown",
   "id": "7e4d2d3c-127b-45d0-a7d1-4938131e28a3",
   "metadata": {},
   "source": [
    "### Links\n",
    "\n",
    "* JupyterHub instance:\n",
    "\n",
    "  `https://username-with-dashes.pearc23.sciauth.org/`\n",
    "\n",
    "* Token management service:\n",
    "\n",
    "  `https://username-with-dashes.pearc23.sciauth.org/services/scitokens/`\n",
    "  \n",
    "* Looking up your CILogon User Identifier:\n",
    "\n",
    "  `https://cilogon.org/`"
   ]
  },
  {
   "cell_type": "markdown",
   "id": "e4ea68de-4c51-4da9-8cb6-ba0a4dc29eef",
   "metadata": {},
   "source": [
    "### Building the End-to-End Environment\n",
    "\n",
    "```\n",
    "$ cd username-with-dashes-sciauth-env\n",
    "$ make build\n",
    "$ cp templates/oauth.env secrets/\n",
    "$ make build\n",
    "```"
   ]
  },
  {
   "cell_type": "markdown",
   "id": "f9e9c32d-973a-4aad-950f-3d1fec24919f",
   "metadata": {},
   "source": [
    "### Starting and Stopping the End-to-End Environment\n",
    "\n",
    "```\n",
    "$ docker compose up -d\n",
    "$ docker compose down\n",
    "```"
   ]
  },
  {
   "cell_type": "markdown",
   "id": "d4f8945b-e541-40a7-826f-9d9ad4e7a28a",
   "metadata": {},
   "source": [
    "### Testing the HTCondor CLI\n",
    "\n",
    "```\n",
    "$ condor_q\n",
    "$ condor_q -debug\n",
    "$ condor_status\n",
    "$ condor_status -debug\n",
    "```"
   ]
  },
  {
   "cell_type": "markdown",
   "id": "6975c398-a2b6-486b-b156-d9145bc741f2",
   "metadata": {},
   "source": [
    "### Making a SciToken available to the HTCondor CLI\n",
    "\n",
    "```\n",
    "$ nano token\n",
    "...paste in the SciToken and save the file...\n",
    "$ export BEARER_TOKEN_FILE=${PWD}/token\n",
    "```"
   ]
  },
  {
   "cell_type": "markdown",
   "id": "25e170df-198f-418c-a243-d56eb943dff2",
   "metadata": {},
   "source": [
    "### Script to Run as an HTCondor Job\n",
    "\n",
    "Save this into a file named `demo.sh`, and then make it executable with `chmod +x dmeo.sh`.\n",
    "\n",
    "```\n",
    "#!/bin/sh\n",
    "\n",
    "echo \"Hello, World!\"\n",
    "date\n",
    "hostname\n",
    "```"
   ]
  },
  {
   "cell_type": "markdown",
   "id": "cfdf0880-3044-4f5a-939a-e0a50982d56d",
   "metadata": {
    "tags": []
   },
   "source": [
    "### Job Description File for HTCondor\n",
    "\n",
    "Save this into a file named `demo.sub`.\n",
    "\n",
    "```\n",
    "executable = demo.sh\n",
    "\n",
    "log = demo.log\n",
    "output = demo.out\n",
    "error = demo.err\n",
    "\n",
    "request_cpus = 1\n",
    "request_memory = 16M\n",
    "request_disk = 16M\n",
    "\n",
    "queue\n",
    "```"
   ]
  },
  {
   "cell_type": "markdown",
   "id": "2be981ca-523b-4770-96b9-a390242bc98e",
   "metadata": {},
   "source": [
    "### Submitting and Monitoring the HTCondor Job\n",
    "\n",
    "```\n",
    "$ condor_submit -spool demo.sub\n",
    "$ condor_q\n",
    "$ condor_transfer_files <job_id>\n",
    "```"
   ]
  }
 ],
 "metadata": {
  "kernelspec": {
   "display_name": "Python 3 (ipykernel)",
   "language": "python",
   "name": "python3"
  },
  "language_info": {
   "codemirror_mode": {
    "name": "ipython",
    "version": 3
   },
   "file_extension": ".py",
   "mimetype": "text/x-python",
   "name": "python",
   "nbconvert_exporter": "python",
   "pygments_lexer": "ipython3",
   "version": "3.10.8"
  }
 },
 "nbformat": 4,
 "nbformat_minor": 5
}
